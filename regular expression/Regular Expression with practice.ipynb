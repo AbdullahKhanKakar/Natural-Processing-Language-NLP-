{
 "cells": [
  {
   "cell_type": "markdown",
   "id": "0bf05e0b",
   "metadata": {},
   "source": [
    "# Regular Expression\n",
    "\n",
    "A regular expression, sometimes referred to as rational expression, is a sequence of characters that specifies a match pattern in text. Usually such patterns are used by string-searching algorithms for \"find\" or \"find and replace\" operations on strings, or for input validation."
   ]
  },
  {
   "cell_type": "code",
   "execution_count": 1,
   "id": "6214e5d6",
   "metadata": {},
   "outputs": [],
   "source": [
    "import re"
   ]
  },
  {
   "cell_type": "markdown",
   "id": "3a37ccf4",
   "metadata": {},
   "source": [
    "### Try to match Phone Number\n",
    "\n",
    "There are 4 types of phone numbers i mentioned in the chat, we need to create regular expression that will matches all:\n",
    "- 03090023904\n",
    "- 0309-9923209\n",
    "- (042) 12354900\n",
    "- (042)12540090"
   ]
  },
  {
   "cell_type": "code",
   "execution_count": 2,
   "id": "a5b71754",
   "metadata": {},
   "outputs": [],
   "source": [
    "chat = \"My phone number::: === 03091135109 or (032) 73345918 or 0308-1292891 or (042)12393055\""
   ]
  },
  {
   "cell_type": "code",
   "execution_count": 3,
   "id": "f8e245c2",
   "metadata": {},
   "outputs": [
    {
     "data": {
      "text/plain": [
       "['03091135109', '(032) 73345918', '0308-1292891', '(042)12393055']"
      ]
     },
     "execution_count": 3,
     "metadata": {},
     "output_type": "execute_result"
    }
   ],
   "source": [
    "pattern = \"\\d{11}|\\(\\d{3}\\) \\d{8}|\\d{4}-\\d{7}|\\(\\d{3}\\)\\d{8}\"\n",
    "re.findall(pattern, chat)"
   ]
  },
  {
   "cell_type": "markdown",
   "id": "3726edc6",
   "metadata": {},
   "source": [
    "It successfully matches all the `Phone Numbers`"
   ]
  },
  {
   "cell_type": "markdown",
   "id": "f510399b",
   "metadata": {},
   "source": [
    "### Try to match Email"
   ]
  },
  {
   "cell_type": "code",
   "execution_count": 4,
   "id": "bc283ded",
   "metadata": {},
   "outputs": [],
   "source": [
    "chat = \"My email can be :: abc@gmail.com :: abdullahkhan2265917@gmail.io :: hamza_09.khan@gmail.com :: miscrosot@outlook.com\""
   ]
  },
  {
   "cell_type": "code",
   "execution_count": 5,
   "id": "77d0346d",
   "metadata": {},
   "outputs": [
    {
     "data": {
      "text/plain": [
       "['abc@gmail.com',\n",
       " 'abdullahkhan2265917@gmail.io',\n",
       " 'hamza_09.khan@gmail.com',\n",
       " 'miscrosot@outlook.com']"
      ]
     },
     "execution_count": 5,
     "metadata": {},
     "output_type": "execute_result"
    }
   ],
   "source": [
    "pattern = \"[0-9A-Za-z._]+@[a-zA-Z0-9]+\\.[a-zA-Z]+\"\n",
    "re.findall(pattern, chat)"
   ]
  },
  {
   "cell_type": "markdown",
   "id": "c4e9a9cc",
   "metadata": {},
   "source": [
    "It successfully matches all the `Emails`"
   ]
  },
  {
   "cell_type": "markdown",
   "id": "0fff01db",
   "metadata": {},
   "source": [
    "### How chatbots identify order number and email from user text\n",
    "\n",
    "Customer can present their text in many forms, out target is capture phone number and email from text."
   ]
  },
  {
   "cell_type": "code",
   "execution_count": 12,
   "id": "54dd1693",
   "metadata": {},
   "outputs": [],
   "source": [
    "chat1 = \"Hello, my order # 12345 and email: abdullahkhan4465918@outlook.com is here. Resolve the issue in product.\"\n",
    "chat2 = \"I have a problem with my order number 12900\"\n",
    "chat3 = \"My order 34511 is showing some issues, i pay 300$ for it. Here is my microsoft email abcdef@microsoft.io\""
   ]
  },
  {
   "cell_type": "code",
   "execution_count": 13,
   "id": "614f4b31",
   "metadata": {},
   "outputs": [],
   "source": [
    "pattern_phone = \"order[^\\d]*(\\d+)\"\n",
    "pattern_email = \"[0-9A-Za-z._]+@[a-zA-Z0-9]+\\.[a-zA-Z]+\""
   ]
  },
  {
   "cell_type": "code",
   "execution_count": 15,
   "id": "2c79b0f7",
   "metadata": {},
   "outputs": [
    {
     "name": "stdout",
     "output_type": "stream",
     "text": [
      "['12345'] == ['abdullahkhan4465918@outlook.com']\n",
      "\n",
      "['12900'] == []\n",
      "\n",
      "['34511'] == ['abcdef@microsoft.io']\n",
      "\n"
     ]
    }
   ],
   "source": [
    "for chat in [chat1, chat2, chat3]:\n",
    "    match = re.findall(pattern_phone, chat)\n",
    "    match2 = re.findall(pattern_email, chat)\n",
    "    print(f\"{match} == {match2}\")\n",
    "    print(\"\")"
   ]
  },
  {
   "cell_type": "markdown",
   "id": "d4299c6c",
   "metadata": {},
   "source": [
    "# Practice through ChatGPT"
   ]
  },
  {
   "cell_type": "markdown",
   "id": "ececc5ca",
   "metadata": {},
   "source": [
    "**Question 01**: Text: \"Date: 2022-02-25\"\n",
    "\n",
    "**What to match**: The date in the format YYYY-MM-DD."
   ]
  },
  {
   "cell_type": "code",
   "execution_count": 16,
   "id": "ae4c0f0c",
   "metadata": {},
   "outputs": [
    {
     "data": {
      "text/plain": [
       "['2022-02-25', '1989-5-9']"
      ]
     },
     "execution_count": 16,
     "metadata": {},
     "output_type": "execute_result"
    }
   ],
   "source": [
    "chat = \"Date can be ::: 2022-02-25 ::: 1989-5-9\"\n",
    "pattern = \"\\d{4}-\\d{1,2}-\\d{1,2}\"\n",
    "re.findall(pattern, chat)"
   ]
  },
  {
   "cell_type": "markdown",
   "id": "0aee168d",
   "metadata": {},
   "source": [
    "**Question 02**: Text: \"The quick brown fox jumps over the lazy dog.\"\n",
    "\n",
    "**What to match**: Any word starting with the letter \"q.\""
   ]
  },
  {
   "cell_type": "code",
   "execution_count": 17,
   "id": "9a9ba66f",
   "metadata": {},
   "outputs": [
    {
     "data": {
      "text/plain": [
       "['quiet', 'quarter', 'quickly']"
      ]
     },
     "execution_count": 17,
     "metadata": {},
     "output_type": "execute_result"
    }
   ],
   "source": [
    "chat = \"Words ::: quiet, cute ::: hello,quarter ::: make the food quickly\"\n",
    "pattern = \"q[a-zA-Z0-9]+\"\n",
    "re.findall(pattern, chat)"
   ]
  },
  {
   "cell_type": "markdown",
   "id": "f5dc8079",
   "metadata": {},
   "source": [
    "**Question 03**: Text: \"Product code: ABC-123-XYZ\"\n",
    "\n",
    "**What to match**: The middle part of the product code (123)."
   ]
  },
  {
   "cell_type": "code",
   "execution_count": 18,
   "id": "99564145",
   "metadata": {},
   "outputs": [
    {
     "data": {
      "text/plain": [
       "['556', '120']"
      ]
     },
     "execution_count": 18,
     "metadata": {},
     "output_type": "execute_result"
    }
   ],
   "source": [
    "chat = \"resolve my issue. New Product code is this fEQ-556-Edd. Previous was eef-120-eif\"\n",
    "pattern = \"\\D{3}-(\\d{3})-\\D{3}\"\n",
    "re.findall(pattern, chat)"
   ]
  },
  {
   "cell_type": "markdown",
   "id": "32b4d94b",
   "metadata": {},
   "source": [
    "**Question 04**: Text: \"Lorem ipsum dolor sit amet, consectetur adipiscing elit.\"\n",
    "\n",
    "**What to match**: Any word ending with \"ing.\"\n"
   ]
  },
  {
   "cell_type": "code",
   "execution_count": 19,
   "id": "72493b25",
   "metadata": {},
   "outputs": [
    {
     "data": {
      "text/plain": [
       "['waiting', 'swimming']"
      ]
     },
     "execution_count": 19,
     "metadata": {},
     "output_type": "execute_result"
    }
   ],
   "source": [
    "chat = \"I am waiting for someone. I sure he will do swimming right now.\"\n",
    "pattern = \"[a-zA-Z0-9]*ing\"\n",
    "re.findall(pattern, chat)"
   ]
  },
  {
   "cell_type": "markdown",
   "id": "d2c998d1",
   "metadata": {},
   "source": [
    "**Question 05**:"
   ]
  },
  {
   "cell_type": "code",
   "execution_count": 20,
   "id": "a4a10ffc",
   "metadata": {},
   "outputs": [
    {
     "data": {
      "text/plain": [
       "['Some text here', 'More text']"
      ]
     },
     "execution_count": 20,
     "metadata": {},
     "output_type": "execute_result"
    }
   ],
   "source": [
    "# Text: \"<div class='content'>Some text here</div>, <p>More text</p>\"\n",
    "# What to match: The content inside the HTML tags.\n",
    "\n",
    "chat = \"<div class='content'>Some text here</div>, <p>More text</p>\"\n",
    "pattern = \"<[a-zA-Z0-9 ;:='\\\"-]*>([a-zA-Z0-9 ]*)<\"\n",
    "re.findall(pattern, chat)"
   ]
  },
  {
   "cell_type": "markdown",
   "id": "da851697",
   "metadata": {},
   "source": [
    "<p style=\"color:green;font-weight:900;\">End of Code!</p>"
   ]
  }
 ],
 "metadata": {
  "kernelspec": {
   "display_name": "Python 3 (ipykernel)",
   "language": "python",
   "name": "python3"
  },
  "language_info": {
   "codemirror_mode": {
    "name": "ipython",
    "version": 3
   },
   "file_extension": ".py",
   "mimetype": "text/x-python",
   "name": "python",
   "nbconvert_exporter": "python",
   "pygments_lexer": "ipython3",
   "version": "3.11.3"
  }
 },
 "nbformat": 4,
 "nbformat_minor": 5
}
