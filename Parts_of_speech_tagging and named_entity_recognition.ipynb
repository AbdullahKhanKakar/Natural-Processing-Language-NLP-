{
 "cells": [
  {
   "cell_type": "markdown",
   "id": "e096ebea",
   "metadata": {},
   "source": [
    "# Parts of Speech Tagging and Named Entity Recognition"
   ]
  },
  {
   "cell_type": "markdown",
   "id": "f46d8f53",
   "metadata": {},
   "source": [
    "## 1. Parts of Speech"
   ]
  },
  {
   "cell_type": "markdown",
   "id": "0d7a7045",
   "metadata": {},
   "source": [
    "Part-of-speech (POS) tagging is a crucial task in Natural Language Processing (NLP) that involves assigning a specific grammatical category (such as noun, verb, adjective, etc.) to each word in a sentence. POS tagging is essential for various NLP applications, including text analysis, information retrieval, and machine translation. Here are some common parts of speech and their abbreviations:\n",
    "\n",
    "- **Noun (NN)**: A word that represents a person, place, thing, or idea. Example: \"dog,\" \"city,\" \"happiness.\"\n",
    "- **Verb (VB)**: A word that expresses an action or a state of being. Example: \"run,\" \"eat,\" \"is.\"\n",
    "- **Adjective (JJ)**: A word that describes or modifies a noun. Example: \"happy,\" \"red,\" \"tall.\"\n",
    "- **Adverb (RB)**: A word that modifies a verb, adjective, or another adverb, often providing information about time, manner, place, or degree. Example: \"quickly,\" \"very,\" \"here.\"\n",
    "- **Pronoun (PRP)**: A word that takes the place of a noun. Example: \"he,\" \"she,\" \"it.\"\n",
    "- **Preposition (IN)**: A word that shows the relationship between a noun (or pronoun) and other words in a sentence. Example: \"in,\" \"on,\" \"under.\"\n",
    "- **Conjunction (CC)**: A word that connects words, phrases, or clauses. Example: \"and,\" \"but,\" \"or.\"\n",
    "- **Interjection (UH)**: A word or phrase that expresses strong emotion. Example: \"wow,\" \"ouch,\" \"oh.\"\n",
    "- **Determiner (DT)**: A word that introduces a noun and identifies it in terms of quantity, possession, or definiteness. Example: \"the,\" \"some,\" \"my.\"\n",
    "- **Modal (MD)**: A verb that expresses possibility, necessity, or ability. Example: \"can,\" \"may,\" \"must.\""
   ]
  },
  {
   "cell_type": "code",
   "execution_count": 21,
   "id": "a5ad71c7",
   "metadata": {},
   "outputs": [
    {
     "name": "stderr",
     "output_type": "stream",
     "text": [
      "[nltk_data] Downloading package stopwords to C:\\Users\\DELL\n",
      "[nltk_data]     PC\\AppData\\Roaming\\nltk_data...\n",
      "[nltk_data]   Package stopwords is already up-to-date!\n",
      "[nltk_data] Downloading package punkt to C:\\Users\\DELL\n",
      "[nltk_data]     PC\\AppData\\Roaming\\nltk_data...\n",
      "[nltk_data]   Package punkt is already up-to-date!\n",
      "[nltk_data] Downloading package averaged_perceptron_tagger to\n",
      "[nltk_data]     C:\\Users\\DELL PC\\AppData\\Roaming\\nltk_data...\n",
      "[nltk_data]   Unzipping taggers\\averaged_perceptron_tagger.zip.\n"
     ]
    },
    {
     "data": {
      "text/plain": [
       "True"
      ]
     },
     "execution_count": 21,
     "metadata": {},
     "output_type": "execute_result"
    }
   ],
   "source": [
    "import nltk\n",
    "# for removing stop words\n",
    "from nltk.corpus import stopwords\n",
    "nltk.download('stopwords')\n",
    "# for tokenization\n",
    "from nltk.tokenize import sent_tokenize, word_tokenize\n",
    "nltk.download('punkt')\n",
    "# for parts of speech tagging\n",
    "from nltk import pos_tag\n",
    "nltk.download('averaged_perceptron_tagger')"
   ]
  },
  {
   "cell_type": "code",
   "execution_count": 22,
   "id": "09af142c",
   "metadata": {},
   "outputs": [],
   "source": [
    "paragraph = \"\"\"We know the scheme of English subjects for matric classes.\n",
    "In this way, the subject of English has two parts, English A and English B.\n",
    "In this way, the second part is more important and has long questions with more than five marks.\n",
    "However, the Essays and stores cover about 10 marks for both parts.\n",
    "But in some academies, the preference for Essays is also included for the 9th class.\n",
    "Therefore, we are going to provide an Essay on My Country Pakistan for class 9 in this post.\n",
    "So, you can read this post to check the Essay on My Country.\n",
    "Basically, the section of the essay will be included in the next class.\n",
    "But it is also useful to remember for the next class.\n",
    "So, we are going to mention to all students that you can read and learn for school tests and exams.\n",
    "The Essay on My Country consists of more than 200 words in this class.\n",
    "However, the section of the paragraph is also included in the matrix in which the topic My country can come in the final exam.\n",
    "In this way, you can learn this essay to get good marks in your final exam.\n",
    "Moreover, the students can also get other essays from this place for their final exam preparation.\n",
    "In this way, we are covering all important essays that normally come in the annual exam.\n",
    "So, you can explore this website to get all the important Essay of Matric for your English B preparation.\"\"\""
   ]
  },
  {
   "cell_type": "code",
   "execution_count": 23,
   "id": "8bc75ef7",
   "metadata": {},
   "outputs": [],
   "source": [
    "sentences = sent_tokenize(paragraph)"
   ]
  },
  {
   "cell_type": "code",
   "execution_count": 24,
   "id": "d603854a",
   "metadata": {},
   "outputs": [
    {
     "data": {
      "text/plain": [
       "['We know the scheme of English subjects for matric classes.',\n",
       " 'In this way, the subject of English has two parts, English A and English B.',\n",
       " 'In this way, the second part is more important and has long questions with more than five marks.',\n",
       " 'However, the Essays and stores cover about 10 marks for both parts.',\n",
       " 'But in some academies, the preference for Essays is also included for the 9th class.',\n",
       " 'Therefore, we are going to provide an Essay on My Country Pakistan for class 9 in this post.',\n",
       " 'So, you can read this post to check the Essay on My Country.',\n",
       " 'Basically, the section of the essay will be included in the next class.',\n",
       " 'But it is also useful to remember for the next class.',\n",
       " 'So, we are going to mention to all students that you can read and learn for school tests and exams.',\n",
       " 'The Essay on My Country consists of more than 200 words in this class.',\n",
       " 'However, the section of the paragraph is also included in the matrix in which the topic My country can come in the final exam.',\n",
       " 'In this way, you can learn this essay to get good marks in your final exam.',\n",
       " 'Moreover, the students can also get other essays from this place for their final exam preparation.',\n",
       " 'In this way, we are covering all important essays that normally come in the annual exam.',\n",
       " 'So, you can explore this website to get all the important Essay of Matric for your English B preparation.']"
      ]
     },
     "execution_count": 24,
     "metadata": {},
     "output_type": "execute_result"
    }
   ],
   "source": [
    "sentences"
   ]
  },
  {
   "cell_type": "code",
   "execution_count": 25,
   "id": "a512fbd1",
   "metadata": {},
   "outputs": [
    {
     "name": "stdout",
     "output_type": "stream",
     "text": [
      "[('We', 'PRP'), ('know', 'VBP'), ('scheme', 'JJ'), ('English', 'JJ'), ('subjects', 'NNS'), ('matric', 'JJ'), ('classes', 'NNS'), ('.', '.')]\n",
      "[('In', 'IN'), ('way', 'NN'), (',', ','), ('subject', 'JJ'), ('English', 'NNP'), ('two', 'CD'), ('parts', 'NNS'), (',', ','), ('English', 'NNP'), ('A', 'NNP'), ('English', 'NNP'), ('B', 'NNP'), ('.', '.')]\n",
      "[('In', 'IN'), ('way', 'NN'), (',', ','), ('second', 'JJ'), ('part', 'NN'), ('important', 'JJ'), ('long', 'JJ'), ('questions', 'NNS'), ('five', 'CD'), ('marks', 'NNS'), ('.', '.')]\n",
      "[('However', 'RB'), (',', ','), ('Essays', 'NNP'), ('stores', 'NNS'), ('cover', 'VBP'), ('10', 'CD'), ('marks', 'NNS'), ('parts', 'NNS'), ('.', '.')]\n",
      "[('But', 'CC'), ('academies', 'NNS'), (',', ','), ('preference', 'NN'), ('Essays', 'NNP'), ('also', 'RB'), ('included', 'VBD'), ('9th', 'CD'), ('class', 'NN'), ('.', '.')]\n",
      "[('Therefore', 'RB'), (',', ','), ('going', 'VBG'), ('provide', 'IN'), ('Essay', 'NNP'), ('My', 'NNP'), ('Country', 'NNP'), ('Pakistan', 'NNP'), ('class', 'NN'), ('9', 'CD'), ('post', 'NN'), ('.', '.')]\n",
      "[('So', 'RB'), (',', ','), ('read', 'VBD'), ('post', 'NN'), ('check', 'NN'), ('Essay', 'NNP'), ('My', 'NNP'), ('Country', 'NNP'), ('.', '.')]\n",
      "[('Basically', 'RB'), (',', ','), ('section', 'NN'), ('essay', 'NN'), ('included', 'VBD'), ('next', 'JJ'), ('class', 'NN'), ('.', '.')]\n",
      "[('But', 'CC'), ('also', 'RB'), ('useful', 'JJ'), ('remember', 'VB'), ('next', 'JJ'), ('class', 'NN'), ('.', '.')]\n",
      "[('So', 'RB'), (',', ','), ('going', 'VBG'), ('mention', 'NN'), ('students', 'NNS'), ('read', 'VBP'), ('learn', 'JJ'), ('school', 'NN'), ('tests', 'NNS'), ('exams', 'VBP'), ('.', '.')]\n",
      "[('The', 'DT'), ('Essay', 'NNP'), ('My', 'NNP'), ('Country', 'NNP'), ('consists', 'VBZ'), ('200', 'CD'), ('words', 'NNS'), ('class', 'NN'), ('.', '.')]\n",
      "[('However', 'RB'), (',', ','), ('section', 'NN'), ('paragraph', 'NN'), ('also', 'RB'), ('included', 'VBD'), ('matrix', 'NN'), ('topic', 'NN'), ('My', 'NNP'), ('country', 'NN'), ('come', 'VBD'), ('final', 'JJ'), ('exam', 'NN'), ('.', '.')]\n",
      "[('In', 'IN'), ('way', 'NN'), (',', ','), ('learn', 'VBP'), ('essay', 'JJ'), ('get', 'VBP'), ('good', 'JJ'), ('marks', 'NNS'), ('final', 'JJ'), ('exam', 'NN'), ('.', '.')]\n",
      "[('Moreover', 'RB'), (',', ','), ('students', 'NNS'), ('also', 'RB'), ('get', 'VBP'), ('essays', 'JJ'), ('place', 'NN'), ('final', 'JJ'), ('exam', 'NN'), ('preparation', 'NN'), ('.', '.')]\n",
      "[('In', 'IN'), ('way', 'NN'), (',', ','), ('covering', 'VBG'), ('important', 'JJ'), ('essays', 'NNS'), ('normally', 'RB'), ('come', 'VBP'), ('annual', 'JJ'), ('exam', 'NN'), ('.', '.')]\n",
      "[('So', 'RB'), (',', ','), ('explore', 'JJR'), ('website', 'JJ'), ('get', 'NN'), ('important', 'JJ'), ('Essay', 'NNP'), ('Matric', 'NNP'), ('English', 'NNP'), ('B', 'NNP'), ('preparation', 'NN'), ('.', '.')]\n"
     ]
    }
   ],
   "source": [
    "for i in range(len(sentences)):\n",
    "    words = word_tokenize(sentences[i])\n",
    "    words_without_stopwords = [word for word in words if word not in set(stopwords.words(\"english\"))]\n",
    "    pos_tags = nltk.pos_tag(words_without_stopwords)\n",
    "    print(pos_tags)"
   ]
  },
  {
   "cell_type": "code",
   "execution_count": 26,
   "id": "4b5c6a80",
   "metadata": {},
   "outputs": [
    {
     "name": "stdout",
     "output_type": "stream",
     "text": [
      "[('Abdullah', 'NNP'), ('is', 'VBZ'), ('nice', 'JJ'), ('name!', 'RB'), ('Many', 'JJ'), ('parents', 'NNS'), ('keep', 'VB'), ('this', 'DT'), ('name', 'NN'), ('of', 'IN'), ('their', 'PRP$'), ('beautiful', 'JJ'), ('childrens.', 'NN')]\n"
     ]
    }
   ],
   "source": [
    "# choose new sentence\n",
    "text = \"Abdullah is nice name! Many parents keep this name of their beautiful childrens.\"\n",
    "print(pos_tag(text.split()))"
   ]
  },
  {
   "cell_type": "markdown",
   "id": "542b8d57",
   "metadata": {},
   "source": [
    "## 2. Named Entity Recognition"
   ]
  },
  {
   "cell_type": "markdown",
   "id": "df95d4ae",
   "metadata": {},
   "source": [
    "Named Entity Recognition (NER) is a natural language processing (NLP) task that involves identifying and classifying named entities (such as persons, organizations, locations, dates, and more) in a text. The goal of NER is to extract structured information from unstructured text, making it easier to understand and analyze.\n",
    "\n",
    "**For Example**:\n",
    "\n",
    "\"This Metal Estate company was established in 1920 in Pakistan with budget of 1 million dollars, which takes around 5 years.\"\n",
    "\n",
    "**NER will do this**:\n",
    "\n",
    "- Organization: Metal State\n",
    "- Place: Pakistan\n",
    "- Century: 1920\n",
    "- Money: 1 million dollars\n",
    "- Time: 5 years"
   ]
  },
  {
   "cell_type": "code",
   "execution_count": 28,
   "id": "2d9102e5",
   "metadata": {},
   "outputs": [
    {
     "name": "stderr",
     "output_type": "stream",
     "text": [
      "[nltk_data] Downloading package maxent_ne_chunker to C:\\Users\\DELL\n",
      "[nltk_data]     PC\\AppData\\Roaming\\nltk_data...\n",
      "[nltk_data]   Unzipping chunkers\\maxent_ne_chunker.zip.\n",
      "[nltk_data] Downloading package words to C:\\Users\\DELL\n",
      "[nltk_data]     PC\\AppData\\Roaming\\nltk_data...\n",
      "[nltk_data]   Unzipping corpora\\words.zip.\n"
     ]
    },
    {
     "data": {
      "text/plain": [
       "True"
      ]
     },
     "execution_count": 28,
     "metadata": {},
     "output_type": "execute_result"
    }
   ],
   "source": [
    "from nltk import ne_chunk\n",
    "nltk.download('maxent_ne_chunker')\n",
    "nltk.download('words')"
   ]
  },
  {
   "cell_type": "markdown",
   "id": "c9fc947a",
   "metadata": {},
   "source": [
    "For Applying NER:\n",
    "\n",
    "- First, apply word_sent tokenizer 'for converting paragraph or sentence into words'\n",
    "- Second, apply pos_tag 'for organizing words into grammatic categories'\n",
    "- Third, apply ne_chunk 'for applying NER'"
   ]
  },
  {
   "cell_type": "code",
   "execution_count": 29,
   "id": "cb91c60e",
   "metadata": {},
   "outputs": [
    {
     "data": {
      "text/plain": [
       "'This Metal Estate company was established in 1920 in Pakistan with budget of 1 million dollars, which takes around 5 years.'"
      ]
     },
     "execution_count": 29,
     "metadata": {},
     "output_type": "execute_result"
    }
   ],
   "source": [
    "sentence = \"This Metal Estate company was established in 1920 in Pakistan with budget of 1 million dollars, which takes around 5 years.\"\n",
    "sentence"
   ]
  },
  {
   "cell_type": "code",
   "execution_count": 30,
   "id": "87da3595",
   "metadata": {},
   "outputs": [
    {
     "data": {
      "text/plain": [
       "['This',\n",
       " 'Metal',\n",
       " 'Estate',\n",
       " 'company',\n",
       " 'was',\n",
       " 'established',\n",
       " 'in',\n",
       " '1920',\n",
       " 'in',\n",
       " 'Pakistan',\n",
       " 'with',\n",
       " 'budget',\n",
       " 'of',\n",
       " '1',\n",
       " 'million',\n",
       " 'dollars',\n",
       " ',',\n",
       " 'which',\n",
       " 'takes',\n",
       " 'around',\n",
       " '5',\n",
       " 'years',\n",
       " '.']"
      ]
     },
     "execution_count": 30,
     "metadata": {},
     "output_type": "execute_result"
    }
   ],
   "source": [
    "# tokenizing\n",
    "words = word_tokenize(sentence)\n",
    "words"
   ]
  },
  {
   "cell_type": "code",
   "execution_count": 31,
   "id": "cd5e4648",
   "metadata": {},
   "outputs": [
    {
     "data": {
      "text/plain": [
       "[('This', 'DT'),\n",
       " ('Metal', 'NNP'),\n",
       " ('Estate', 'NNP'),\n",
       " ('company', 'NN'),\n",
       " ('was', 'VBD'),\n",
       " ('established', 'VBN'),\n",
       " ('in', 'IN'),\n",
       " ('1920', 'CD'),\n",
       " ('in', 'IN'),\n",
       " ('Pakistan', 'NNP'),\n",
       " ('with', 'IN'),\n",
       " ('budget', 'NN'),\n",
       " ('of', 'IN'),\n",
       " ('1', 'CD'),\n",
       " ('million', 'CD'),\n",
       " ('dollars', 'NNS'),\n",
       " (',', ','),\n",
       " ('which', 'WDT'),\n",
       " ('takes', 'VBZ'),\n",
       " ('around', 'IN'),\n",
       " ('5', 'CD'),\n",
       " ('years', 'NNS'),\n",
       " ('.', '.')]"
      ]
     },
     "execution_count": 31,
     "metadata": {},
     "output_type": "execute_result"
    }
   ],
   "source": [
    "pos_tags = pos_tag(words)\n",
    "pos_tags"
   ]
  },
  {
   "cell_type": "code",
   "execution_count": 34,
   "id": "b9eb0de3",
   "metadata": {},
   "outputs": [],
   "source": [
    "NER = ne_chunk(pos_tags).draw()"
   ]
  },
  {
   "cell_type": "markdown",
   "id": "bdc07b44",
   "metadata": {},
   "source": [
    "End of Code!"
   ]
  }
 ],
 "metadata": {
  "kernelspec": {
   "display_name": "Python 3 (ipykernel)",
   "language": "python",
   "name": "python3"
  },
  "language_info": {
   "codemirror_mode": {
    "name": "ipython",
    "version": 3
   },
   "file_extension": ".py",
   "mimetype": "text/x-python",
   "name": "python",
   "nbconvert_exporter": "python",
   "pygments_lexer": "ipython3",
   "version": "3.11.3"
  }
 },
 "nbformat": 4,
 "nbformat_minor": 5
}
